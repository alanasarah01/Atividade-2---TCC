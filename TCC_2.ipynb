{
 "cells": [
  {
   "cell_type": "code",
   "execution_count": 10,
   "metadata": {},
   "outputs": [
    {
     "name": "stdout",
     "output_type": "stream",
     "text": [
      "dict_keys(['__header__', '__version__', '__globals__', 'in', 'out'])\n",
      "[0.62302363 0.60603586 0.62319308 0.66196767 0.69947785]\n",
      "[0.49243503 0.47870008 0.47848198 0.48890297 0.50141688]\n"
     ]
    }
   ],
   "source": [
    "import scipy.io\n",
    "import numpy as np\n",
    "# Carregar o arquivo .mat\n",
    "data = scipy.io.loadmat('/Users/alanasarahfreitasdarocha/Documents/UFPR 8 periodo/Atividade 2 - TCC/IN_OUT_PA.mat')\n",
    "\n",
    "# Exibir os cabeçalhos\n",
    "print(data.keys())\n",
    "u = data['in'].flatten()  # Entrada, flatten é usado para transformar em uma unica dimensão \n",
    "y = data['out'].flatten()  # Saída\n",
    "\n",
    "print(u[:5]) # printando 5 primeiros valores\n",
    "print(y[:5])\n"
   ]
  },
  {
   "cell_type": "code",
   "execution_count": 19,
   "metadata": {},
   "outputs": [
    {
     "name": "stdout",
     "output_type": "stream",
     "text": [
      "99\n",
      "Primeiras linhas de XX: [[0.62319308 0.38836962 0.60603586 0.36727947]\n",
      " [0.66196767 0.4382012  0.62319308 0.38836962]\n",
      " [0.69947785 0.48926926 0.66196767 0.4382012 ]\n",
      " [0.72012176 0.51857534 0.69947785 0.48926926]\n",
      " [0.71870468 0.51653642 0.72012176 0.51857534]]\n",
      "Primeiras linhas de Y: [0.47848198 0.48890297 0.50141688 0.51037182 0.5128654 ]\n"
     ]
    }
   ],
   "source": [
    "# Definir a ordem do polinômio (P) e o número de atrasos (M)\n",
    "P = 2  # Ordem do polinômio\n",
    "M = 2  # Memória \n",
    "\n",
    "# Número de dados\n",
    "N = len(u) #99\n",
    "print(N)\n",
    "# Inicializar a matriz de regressão XX\n",
    "XX = []\n",
    "\n",
    "# Construir a matriz de regressão XX utilizando loop\n",
    "for n in range(M, N):  # Evitar os primeiros M valores, pois nao teremos memoria    \n",
    "    linha = []\n",
    "    for m in range(M):  # Para memória\n",
    "        for p in range(1, P + 1):  # Para cada potência\n",
    "            linha.append(u[n - m] ** p)\n",
    "    XX.append(linha)\n",
    "\n",
    "# Converter a lista para um array NumPy\n",
    "XX = np.array(XX)\n",
    "\n",
    "# Ajustar o vetor de saída correspondente\n",
    "y_adjusted = y[M:]\n",
    "\n",
    "# Ver as primeiras linhas da matriz XX e do vetor Y\n",
    "print(\"Primeiras linhas de XX:\", XX[:5])\n",
    "print(\"Primeiras linhas de Y:\", y_adjusted[:5])"
   ]
  },
  {
   "cell_type": "code",
   "execution_count": 14,
   "metadata": {},
   "outputs": [
    {
     "name": "stdout",
     "output_type": "stream",
     "text": [
      "Coeficientes estimados: [ 1.03625919 -0.63794799 -0.04639047  0.2382853 ]\n"
     ]
    }
   ],
   "source": [
    "# Resolver o problema de mínimos quadrados\n",
    "coeffs = coeffs = np.linalg.lstsq(XX, y_adjusted, rcond=None)[0] \n",
    "# Exibir os coeficientes estimados\n",
    "print(\"Coeficientes estimados:\", coeffs)"
   ]
  }
 ],
 "metadata": {
  "kernelspec": {
   "display_name": "Python 3",
   "language": "python",
   "name": "python3"
  },
  "language_info": {
   "codemirror_mode": {
    "name": "ipython",
    "version": 3
   },
   "file_extension": ".py",
   "mimetype": "text/x-python",
   "name": "python",
   "nbconvert_exporter": "python",
   "pygments_lexer": "ipython3",
   "version": "3.12.6"
  }
 },
 "nbformat": 4,
 "nbformat_minor": 2
}
